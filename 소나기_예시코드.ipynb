{
  "nbformat": 4,
  "nbformat_minor": 0,
  "metadata": {
    "colab": {
      "provenance": [],
      "collapsed_sections": []
    },
    "kernelspec": {
      "display_name": "TensorFlow 2.3 on Python 3.6 (CUDA 10.1)",
      "language": "python",
      "name": "python3"
    },
    "language_info": {
      "codemirror_mode": {
        "name": "ipython",
        "version": 3
      },
      "file_extension": ".py",
      "mimetype": "text/x-python",
      "name": "python",
      "nbconvert_exporter": "python",
      "pygments_lexer": "ipython3",
      "version": "3.6.9"
    }
  },
  "cells": [
    {
      "cell_type": "markdown",
      "metadata": {
        "id": "XRlOGzXEPuRK"
      },
      "source": [
        "### Ready! - 학습 데이터 준비하고 전처리하기"
      ]
    },
    {
      "cell_type": "markdown",
      "metadata": {
        "id": "SpdIYYAFzp8P"
      },
      "source": [
        "### 01 데이터 준비하기\n"
      ]
    },
    {
      "cell_type": "code",
      "metadata": {
        "id": "SLUDuHl8oJZX",
        "cellView": "code"
      },
      "source": [
        "weather_FrogSound1 = [70, 60, 90, 80, 50, 80, 90, 70, 80, 100,\n",
        "                     40, 30, 60, 20, 50, 0, 0, 0, 0, 0]\n",
        "weather_KneePain1 = [44, 39, 49, 36, 48, 29, 39, 43, 41, 44,\n",
        "                    38, 44, 49, 39, 48, 42, 47, 42, 38, 36]"
      ],
      "execution_count": 1,
      "outputs": []
    },
    {
      "cell_type": "code",
      "source": [
        "import matplotlib.pyplot as plt\n",
        "\n",
        "plt.scatter(weather_FrogSound1, weather_KneePain1)\n",
        "plt.xlabel('FrogSound')\n",
        "plt.ylabel('KneePain')\n",
        "plt.show()"
      ],
      "metadata": {
        "colab": {
          "base_uri": "https://localhost:8080/",
          "height": 283
        },
        "id": "KSlprpeP0DvO",
        "outputId": "d5961e3e-ed87-40e9-ac06-2a96f73a81a1"
      },
      "execution_count": 2,
      "outputs": [
        {
          "output_type": "display_data",
          "data": {
            "text/plain": [
              "<Figure size 432x288 with 1 Axes>"
            ],
            "image/png": "[encoded data removed]"
          },
          "metadata": {
            "needs_background": "light"
          }
        }
      ]
    },
    {
      "cell_type": "code",
      "metadata": {
        "id": "AIE7B3VdFXc1"
      },
      "source": [
        "weather_FrogSound0 = [0, 0, 5, 10, 30, 20, 52, 38, 35, 40,\n",
        "                     20, 10, 0, 10, 0, 0, 0, 0, 0, 0]\n",
        "weather_KneePain0 = [20, 21, 16, 25, 18, 11, 6, 13, 21, 18,\n",
        "                     21, 16, 6, 19, 13, 22, 31, 27, 24, 26]"
      ],
      "execution_count": 3,
      "outputs": []
    },
    {
      "cell_type": "code",
      "source": [
        "import matplotlib.pyplot as plt\n",
        "\n",
        "plt.scatter(weather_FrogSound1, weather_KneePain1)\n",
        "plt.scatter(weather_FrogSound0, weather_KneePain0)\n",
        "plt.xlabel('FrogSound')\n",
        "plt.ylabel('KneePain')\n",
        "plt.show()"
      ],
      "metadata": {
        "colab": {
          "base_uri": "https://localhost:8080/",
          "height": 279
        },
        "id": "is5qmQZfH8kA",
        "outputId": "4fa8d1ba-d796-4361-ae60-86ba4dbbebd1"
      },
      "execution_count": 4,
      "outputs": [
        {
          "output_type": "display_data",
          "data": {
            "text/plain": [
              "<Figure size 432x288 with 1 Axes>"
            ],
            "image/png": "[encoded data removed]"
          },
          "metadata": {
            "needs_background": "light"
          }
        }
      ]
    },
    {
      "cell_type": "code",
      "source": [
        "FrogSound = weather_FrogSound1 + weather_FrogSound0\n",
        "KneePain = weather_KneePain1 + weather_KneePain0"
      ],
      "metadata": {
        "id": "P7tt4qVHIdwa"
      },
      "execution_count": 5,
      "outputs": []
    },
    {
      "cell_type": "code",
      "source": [
        "import numpy as np\n",
        "\n",
        "weather_data = np.column_stack((FrogSound, KneePain))\n",
        "print(weather_data)"
      ],
      "metadata": {
        "colab": {
          "base_uri": "https://localhost:8080/"
        },
        "outputId": "ea88d87c-39ba-4792-8f89-73d27243ec48",
        "id": "JDTEo1y1FEo-"
      },
      "execution_count": 6,
      "outputs": [
        {
          "output_type": "stream",
          "name": "stdout",
          "text": [
            "[[ 70  44]\n",
            " [ 60  39]\n",
            " [ 90  49]\n",
            " [ 80  36]\n",
            " [ 50  48]\n",
            " [ 80  29]\n",
            " [ 90  39]\n",
            " [ 70  43]\n",
            " [ 80  41]\n",
            " [100  44]\n",
            " [ 40  38]\n",
            " [ 30  44]\n",
            " [ 60  49]\n",
            " [ 20  39]\n",
            " [ 50  48]\n",
            " [  0  42]\n",
            " [  0  47]\n",
            " [  0  42]\n",
            " [  0  38]\n",
            " [  0  36]\n",
            " [  0  20]\n",
            " [  0  21]\n",
            " [  5  16]\n",
            " [ 10  25]\n",
            " [ 30  18]\n",
            " [ 20  11]\n",
            " [ 52   6]\n",
            " [ 38  13]\n",
            " [ 35  21]\n",
            " [ 40  18]\n",
            " [ 20  21]\n",
            " [ 10  16]\n",
            " [  0   6]\n",
            " [ 10  19]\n",
            " [  0  13]\n",
            " [  0  22]\n",
            " [  0  31]\n",
            " [  0  27]\n",
            " [  0  24]\n",
            " [  0  26]]\n"
          ]
        }
      ]
    },
    {
      "cell_type": "code",
      "metadata": {
        "id": "-ScgL2hIL0FB",
        "colab": {
          "base_uri": "https://localhost:8080/"
        },
        "outputId": "cdeb7372-8076-4f25-bcf9-f03003d56c86"
      },
      "source": [
        "weather_target = np.concatenate((np.ones(20), np.zeros(20)))\n",
        "print(weather_target)"
      ],
      "execution_count": 7,
      "outputs": [
        {
          "output_type": "stream",
          "name": "stdout",
          "text": [
            "[1. 1. 1. 1. 1. 1. 1. 1. 1. 1. 1. 1. 1. 1. 1. 1. 1. 1. 1. 1. 0. 0. 0. 0.\n",
            " 0. 0. 0. 0. 0. 0. 0. 0. 0. 0. 0. 0. 0. 0. 0. 0.]\n"
          ]
        }
      ]
    },
    {
      "cell_type": "markdown",
      "metadata": {
        "id": "PniYaCWyPxbq"
      },
      "source": [
        "### 02 - 데이터 전처리하기\n"
      ]
    },
    {
      "cell_type": "code",
      "source": [
        "from sklearn.model_selection import train_test_split"
      ],
      "metadata": {
        "id": "Z6T7oupqpWcR"
      },
      "execution_count": 8,
      "outputs": []
    },
    {
      "cell_type": "code",
      "source": [
        "train_input, test_input, train_target, test_target = train_test_split(\n",
        "    weather_data, weather_target, random_state=7)\n",
        "print(test_target)"
      ],
      "metadata": {
        "colab": {
          "base_uri": "https://localhost:8080/"
        },
        "outputId": "36cfdc04-8485-40cc-8f9f-472a3251d392",
        "id": "KhUT-LcuK1oB"
      },
      "execution_count": 9,
      "outputs": [
        {
          "output_type": "stream",
          "name": "stdout",
          "text": [
            "[1. 0. 0. 1. 0. 1. 0. 1. 1. 0.]\n"
          ]
        }
      ]
    },
    {
      "cell_type": "code",
      "source": [
        "print(train_input.shape, test_input.shape)\n",
        "print(train_target.shape, test_target.shape)"
      ],
      "metadata": {
        "colab": {
          "base_uri": "https://localhost:8080/"
        },
        "id": "sWwzrgPdpe7-",
        "outputId": "a63f7a3f-04ad-4dc6-dfd6-61d316c04b78"
      },
      "execution_count": 10,
      "outputs": [
        {
          "output_type": "stream",
          "name": "stdout",
          "text": [
            "(30, 2) (10, 2)\n",
            "(30,) (10,)\n"
          ]
        }
      ]
    },
    {
      "cell_type": "code",
      "source": [
        "from sklearn.preprocessing import StandardScaler\n",
        "\n",
        "ss = StandardScaler()\t\n",
        "ss.fit(train_input)\t\n",
        "train_scaled = ss.transform(train_input)\t\n",
        "test_scaled = ss.transform(test_input)"
      ],
      "metadata": {
        "id": "Zp3wzDLG86Qc"
      },
      "execution_count": 11,
      "outputs": []
    },
    {
      "cell_type": "code",
      "source": [
        "import matplotlib.pyplot as plt\t\n",
        "\n",
        "plt.scatter(train_scaled[:,0], train_scaled[:,1])\t\n",
        "plt.scatter(test_scaled[:,0], test_scaled[:,1])\t\t\n",
        "plt.xlabel('FrogSound')\n",
        "plt.ylabel('KneePain')\n",
        "plt.show()"
      ],
      "metadata": {
        "colab": {
          "base_uri": "https://localhost:8080/",
          "height": 279
        },
        "outputId": "d33dae0e-0116-4d15-c53d-52f85409700f",
        "id": "PdRzCtd5teaO"
      },
      "execution_count": 14,
      "outputs": [
        {
          "output_type": "display_data",
          "data": {
            "text/plain": [
              "<Figure size 432x288 with 1 Axes>"
            ],
            "image/png": "[encoded data removed]"
          },
          "metadata": {
            "needs_background": "light"
          }
        }
      ]
    },
    {
      "cell_type": "markdown",
      "metadata": {
        "id": "ZJYk1I79z_B4"
      },
      "source": [
        "### Make! - 개구리 울음 소리와 무릎 통증 데이터로 인공지능 모델 만들기\n"
      ]
    },
    {
      "cell_type": "markdown",
      "metadata": {
        "id": "j3QTTpWp0iFc"
      },
      "source": [
        "### 01 - k-최근접 이웃 모델 만들기\n"
      ]
    },
    {
      "cell_type": "code",
      "metadata": {
        "colab": {
          "base_uri": "https://localhost:8080/"
        },
        "outputId": "3de0391f-6c80-46fd-cb7e-53b958d87c71",
        "id": "zxVpce90wH--"
      },
      "source": [
        "from sklearn.neighbors import KNeighborsClassifier\n",
        "\n",
        "knn = KNeighborsClassifier(n_neighbors=5)\t\n",
        "knn.fit(train_scaled, train_target)\t\t"
      ],
      "execution_count": 15,
      "outputs": [
        {
          "output_type": "execute_result",
          "data": {
            "text/plain": [
              "KNeighborsClassifier()"
            ]
          },
          "metadata": {},
          "execution_count": 15
        }
      ]
    },
    {
      "cell_type": "code",
      "source": [
        "print(knn.score(train_scaled, train_target))\n",
        "print(knn.score(test_scaled, test_target))"
      ],
      "metadata": {
        "colab": {
          "base_uri": "https://localhost:8080/"
        },
        "id": "6zyqsi9p_UqD",
        "outputId": "06b43b00-72c2-43a0-974a-a63c0dc0184d"
      },
      "execution_count": 16,
      "outputs": [
        {
          "output_type": "stream",
          "name": "stdout",
          "text": [
            "1.0\n",
            "1.0\n"
          ]
        }
      ]
    },
    {
      "cell_type": "markdown",
      "metadata": {
        "id": "6MFV2SoQ0ebs"
      },
      "source": [
        "### Predict! - 개구리 울음 소리와 무릎 통증으로 내일 날씨 예측하기\n"
      ]
    },
    {
      "cell_type": "markdown",
      "metadata": {
        "id": "Ed1pbuV31fKd"
      },
      "source": [
        "### 01 - k-최근접 이웃으로 날씨 예측하기\n"
      ]
    },
    {
      "cell_type": "code",
      "source": [
        "import matplotlib.pyplot as plt\t\t\n",
        "\n",
        "plt.scatter(train_scaled[:,0], train_scaled[:,1])\t\t\n",
        "#plt.scatter(test_scaled[:,0], test_scaled[:,1])\n",
        "plt.xlabel('FrogSound')\n",
        "plt.ylabel('KneePain')\n",
        "plt.show()"
      ],
      "metadata": {
        "colab": {
          "base_uri": "https://localhost:8080/",
          "height": 279
        },
        "id": "y5nViF8wiUzk",
        "outputId": "0df5cd0b-ca69-4bf0-d822-4d72787082f7"
      },
      "execution_count": 17,
      "outputs": [
        {
          "output_type": "display_data",
          "data": {
            "text/plain": [
              "<Figure size 432x288 with 1 Axes>"
            ],
            "image/png": "[encoded data removed]"
          },
          "metadata": {
            "needs_background": "light"
          }
        }
      ]
    },
    {
      "cell_type": "code",
      "source": [
        "import matplotlib.pyplot as plt\n",
        "\n",
        "plt.scatter(train_scaled[:, 0], train_scaled[:, 1])\n",
        "#plt.scatter(test_scaled[:, 0], test_scaled[:, 1])\n",
        "plt.scatter(50, 40, marker='^')\n",
        "plt.xlabel('FrogSound')\n",
        "plt.ylabel('KneePain')\n",
        "plt.show()"
      ],
      "metadata": {
        "colab": {
          "base_uri": "https://localhost:8080/",
          "height": 279
        },
        "id": "eNvWELBmhoCm",
        "outputId": "9dd5a3e3-c67a-471d-89ec-25090b61a53f"
      },
      "execution_count": 18,
      "outputs": [
        {
          "output_type": "display_data",
          "data": {
            "text/plain": [
              "<Figure size 432x288 with 1 Axes>"
            ],
            "image/png": "[encoded data removed]"
          },
          "metadata": {
            "needs_background": "light"
          }
        }
      ]
    },
    {
      "cell_type": "code",
      "source": [
        "import matplotlib.pyplot as plt\n",
        "\n",
        "mean = np.mean(train_input, axis =0)\t\n",
        "std = np.std(train_input, axis =0)\t\n",
        "n_tg = ([50,40] - mean) / std\t\t\n",
        "\n",
        "plt.scatter(train_scaled[:, 0], train_scaled[:, 1])\n",
        "plt.scatter(n_tg[0], n_tg[1], marker='^')\n",
        "plt.xlabel('FrogSound')\n",
        "plt.ylabel('KneePain')\n",
        "plt.show()"
      ],
      "metadata": {
        "colab": {
          "base_uri": "https://localhost:8080/",
          "height": 279
        },
        "id": "WaNFCiiu9E-o",
        "outputId": "b69b5426-3866-4278-8195-c5805c74f7be"
      },
      "execution_count": 19,
      "outputs": [
        {
          "output_type": "display_data",
          "data": {
            "text/plain": [
              "<Figure size 432x288 with 1 Axes>"
            ],
            "image/png": "[encoded data removed]"
          },
          "metadata": {
            "needs_background": "light"
          }
        }
      ]
    },
    {
      "cell_type": "code",
      "metadata": {
        "id": "G_jwm_ouQKQ7",
        "colab": {
          "base_uri": "https://localhost:8080/"
        },
        "outputId": "34570bed-647b-40c7-a63f-4cd0c8284d09"
      },
      "source": [
        "distances, indexes = knn.kneighbors([[n_tg[0], n_tg[1]]])\n",
        "\n",
        "print(distances)"
      ],
      "execution_count": 20,
      "outputs": [
        {
          "output_type": "stream",
          "name": "stdout",
          "text": [
            "[[0.37977078 0.63661597 0.63661597 0.72977798 0.75954157]]\n"
          ]
        }
      ]
    },
    {
      "cell_type": "code",
      "metadata": {
        "colab": {
          "base_uri": "https://localhost:8080/",
          "height": 279
        },
        "id": "bHWAbdefW9W6",
        "outputId": "9bc9f97b-f065-4baf-a06f-177ef9cccaa2"
      },
      "source": [
        "plt.scatter(train_scaled[:,0], train_scaled[:,1])\n",
        "plt.scatter(n_tg[0], n_tg[1], marker='^')\n",
        "plt.scatter(train_scaled[indexes,0], train_scaled[indexes,1], marker='D')\n",
        "plt.xlabel('FrogSound')\n",
        "plt.ylabel('KneePain')\n",
        "plt.show()"
      ],
      "execution_count": 22,
      "outputs": [
        {
          "output_type": "display_data",
          "data": {
            "text/plain": [
              "<Figure size 432x288 with 1 Axes>"
            ],
            "image/png": "[encoded data removed]"
          },
          "metadata": {
            "needs_background": "light"
          }
        }
      ]
    },
    {
      "cell_type": "code",
      "metadata": {
        "colab": {
          "base_uri": "https://localhost:8080/"
        },
        "id": "JRKoCZFeT9xE",
        "outputId": "880a542a-dabf-45b5-bb87-82e9877cb0fc"
      },
      "source": [
        "print(knn.predict([n_tg])) "
      ],
      "execution_count": 23,
      "outputs": [
        {
          "output_type": "stream",
          "name": "stdout",
          "text": [
            "[1.]\n"
          ]
        }
      ]
    }
  ]
}